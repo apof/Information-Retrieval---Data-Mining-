{
  "nbformat": 4,
  "nbformat_minor": 0,
  "metadata": {
    "colab": {
      "name": "IRDM_Project2.ipynb",
      "provenance": [],
      "collapsed_sections": [],
      "machine_shape": "hm",
      "authorship_tag": "ABX9TyMsuaFTS/BsW4Ib/F49Ubts",
      "include_colab_link": true
    },
    "kernelspec": {
      "display_name": "Python 3",
      "name": "python3"
    },
    "language_info": {
      "name": "python"
    },
    "accelerator": "GPU"
  },
  "cells": [
    {
      "cell_type": "markdown",
      "metadata": {
        "id": "view-in-github",
        "colab_type": "text"
      },
      "source": [
        "<a href=\"https://colab.research.google.com/github/apof/Information-Retrieval---Data-Mining-/blob/main/IRDM_Project2.ipynb\" target=\"_parent\"><img src=\"https://colab.research.google.com/assets/colab-badge.svg\" alt=\"Open In Colab\"/></a>"
      ]
    },
    {
      "cell_type": "code",
      "metadata": {
        "colab": {
          "base_uri": "https://localhost:8080/"
        },
        "id": "D9qvy-qmt-Pm",
        "outputId": "2cf4ab5f-98cb-4501-8d2e-0c038b820da7"
      },
      "source": [
        "from google.colab import drive\n",
        "drive.mount('/content/drive',force_remount=True)"
      ],
      "execution_count": 1,
      "outputs": [
        {
          "output_type": "stream",
          "text": [
            "Mounted at /content/drive\n"
          ],
          "name": "stdout"
        }
      ]
    },
    {
      "cell_type": "code",
      "metadata": {
        "id": "bzlwMzcmb7bw"
      },
      "source": [
        "import pandas as pd\n",
        "import numpy as np\n",
        "from IPython.display import clear_output\n",
        "import random\n",
        "import matplotlib.pyplot as plt\n",
        "\n",
        "%matplotlib inline"
      ],
      "execution_count": 2,
      "outputs": []
    },
    {
      "cell_type": "markdown",
      "metadata": {
        "id": "XXDu6NhklusF"
      },
      "source": [
        "**Load The Data and Process the with Pandas DataFrames**"
      ]
    },
    {
      "cell_type": "code",
      "metadata": {
        "id": "VQwDZDKHuH1l"
      },
      "source": [
        "train_data_file = \"drive/MyDrive/Datasets/IRDM/train_data.tsv\"\n",
        "test_data_file = \"drive/MyDrive/Datasets/IRDM/validation_data.tsv\""
      ],
      "execution_count": 3,
      "outputs": []
    },
    {
      "cell_type": "code",
      "metadata": {
        "colab": {
          "base_uri": "https://localhost:8080/"
        },
        "id": "btO5-N2ybl2O",
        "outputId": "ea152f81-6bdb-4b6d-ceeb-2092b3ed4aa6"
      },
      "source": [
        "col_names=['qid','pid','query','passage','relevancy']\n",
        "\n",
        "train_data_init=pd.read_csv(train_data_file, sep='\\t', header=None, names=col_names)\n",
        "train_data_df=pd.DataFrame(train_data_init)\n",
        "train_data_df = train_data_df.iloc[1:]\n",
        "\n",
        "test_data_init=pd.read_csv(test_data_file, sep='\\t', header=None, names=col_names)\n",
        "test_data_df=pd.DataFrame(test_data_init)\n",
        "test_data_df = test_data_df.iloc[1:]"
      ],
      "execution_count": 4,
      "outputs": [
        {
          "output_type": "stream",
          "text": [
            "/usr/local/lib/python3.7/dist-packages/IPython/core/interactiveshell.py:2718: DtypeWarning: Columns (0,1,4) have mixed types.Specify dtype option on import or set low_memory=False.\n",
            "  interactivity=interactivity, compiler=compiler, result=result)\n"
          ],
          "name": "stderr"
        }
      ]
    },
    {
      "cell_type": "code",
      "metadata": {
        "id": "2182zoCaeOy0"
      },
      "source": [
        "train_data_df[\"relevancy\"] = train_data_df.relevancy.astype(float)\n",
        "test_data_df[\"relevancy\"] = test_data_df.relevancy.astype(float)"
      ],
      "execution_count": 5,
      "outputs": []
    },
    {
      "cell_type": "code",
      "metadata": {
        "id": "ByWdiR4ehWr5"
      },
      "source": [
        "train_labels = train_data_df['relevancy'].values\n",
        "test_labels = test_data_df['relevancy'].values"
      ],
      "execution_count": 6,
      "outputs": []
    },
    {
      "cell_type": "code",
      "metadata": {
        "id": "8DclKom1jTXP"
      },
      "source": [
        "train_passages = train_data_df['passage'].values\n",
        "train_queries = train_data_df['query'].values\n",
        "train_pids = train_data_df['pid'].values\n",
        "train_qids = train_data_df['qid'].values"
      ],
      "execution_count": 7,
      "outputs": []
    },
    {
      "cell_type": "code",
      "metadata": {
        "id": "bSAxbJF1mtw8"
      },
      "source": [
        "test_passages = test_data_df['passage'].values\n",
        "test_queries = test_data_df['query'].values\n",
        "test_pids = test_data_df['pid'].values\n",
        "test_qids = test_data_df['qid'].values"
      ],
      "execution_count": 8,
      "outputs": []
    },
    {
      "cell_type": "markdown",
      "metadata": {
        "id": "wpukHGbvzKb2"
      },
      "source": [
        "**Create Dictionaries for the Training and Testing Data**"
      ]
    },
    {
      "cell_type": "code",
      "metadata": {
        "id": "9soNcNQGzIFn"
      },
      "source": [
        "train_passage_dict = {}\n",
        "train_query_dict = {}\n",
        "for i, _ in enumerate(train_queries):\n",
        "  train_passage_dict[train_pids[i]] = train_passages[i]\n",
        "  train_query_dict[train_qids[i]] = train_queries[i]"
      ],
      "execution_count": 9,
      "outputs": []
    },
    {
      "cell_type": "code",
      "metadata": {
        "id": "BJz1sCG433R8"
      },
      "source": [
        "test_passage_dict = {}\n",
        "test_query_dict = {}\n",
        "for i, _ in enumerate(test_queries):\n",
        "  test_passage_dict[test_pids[i]] = test_passages[i]\n",
        "  test_query_dict[test_qids[i]] = test_queries[i]"
      ],
      "execution_count": 10,
      "outputs": []
    },
    {
      "cell_type": "markdown",
      "metadata": {
        "id": "Bx4snFI1thV0"
      },
      "source": [
        "**Correct Imbalanced Data with Negative Sampling**"
      ]
    },
    {
      "cell_type": "code",
      "metadata": {
        "id": "Z-nozDa9ttqD"
      },
      "source": [
        "def collect_relevant_pids(pids,qids,relevancy):\n",
        "\n",
        "  relevancy_dict = {}\n",
        "  ## collect for each query all the relevant passages (relevant passages is the minority class)\n",
        "  ## and then sample randomply K negative examples\n",
        "\n",
        "  for i, qid in enumerate(qids):\n",
        "    if(relevancy_dict.get(qid) == None):\n",
        "      if(relevancy[i] == 0):\n",
        "        relevancy_dict[qid] = [[],[(pids[i],i)]]\n",
        "      else:\n",
        "        relevancy_dict[qid] = [[(pids[i],i)],[]]\n",
        "    else:\n",
        "      l = relevancy_dict.get(qid)\n",
        "      if(relevancy[i] == 0):\n",
        "        l[1].append((pids[i],i))\n",
        "      else:\n",
        "        l[0].append((pids[i],i))\n",
        "      relevancy_dict[qid] = l\n",
        "\n",
        "  return relevancy_dict"
      ],
      "execution_count": 11,
      "outputs": []
    },
    {
      "cell_type": "code",
      "metadata": {
        "id": "6_Sb4rSpvP9n"
      },
      "source": [
        "train_relevant_passages_dict = collect_relevant_pids(train_pids,train_qids,train_labels)"
      ],
      "execution_count": 12,
      "outputs": []
    },
    {
      "cell_type": "code",
      "metadata": {
        "id": "WZa3r6YL4hpt"
      },
      "source": [
        "test_relevant_passages_dict = collect_relevant_pids(test_pids,test_qids,test_labels)"
      ],
      "execution_count": 13,
      "outputs": []
    },
    {
      "cell_type": "code",
      "metadata": {
        "id": "fQXi92iZwCKf"
      },
      "source": [
        "def negative_sampling(relevant_passages_dict,passage_dict,query_dict,K):\n",
        "\n",
        "  sampled_passages = []\n",
        "  sampled_queries = []\n",
        "  sampled_labels = []\n",
        "  sampled_qids = []\n",
        "  sampled_pids = []\n",
        "\n",
        "\n",
        "  for key in relevant_passages_dict:\n",
        "    l = relevant_passages_dict.get(key)\n",
        "\n",
        "    number_of_positive_samples = len(l[0])\n",
        "    number_of_negative_passages = len(l[1])\n",
        "\n",
        "    #print(\"query \" + str(key) + \" has \" + str(number_of_positive_samples) + \" positive and \" + str(number_of_negative_passages) + \" negative sample\" )\n",
        "\n",
        "    ## if there are not relevant passages continue\n",
        "    if(number_of_positive_samples != 0):\n",
        "      ## collect all relevant passages\n",
        "      for (pid,_) in l[0]:\n",
        "        sampled_queries.append(query_dict.get(key))\n",
        "        sampled_passages.append(passage_dict.get(pid))\n",
        "        sampled_labels.append(1)\n",
        "        sampled_qids.append(key)\n",
        "        sampled_pids.append(pid)\n",
        "\n",
        "      negative_examples_to_draw = None\n",
        "      ## if the positive examples for a query are more than the negative one --> select all the negative and add them to the dataset\n",
        "      if(number_of_positive_samples >= number_of_negative_passages):\n",
        "        negative_examples_to_draw = number_of_negative_passages\n",
        "      else:\n",
        "        ## if there are more negative examples than K\n",
        "        if(number_of_negative_passages >= K):\n",
        "          negative_examples_to_draw = K\n",
        "        else:\n",
        "          ## elese collect all the negaative examples\n",
        "          negative_examples_to_draw = number_of_positive_samples\n",
        "\n",
        "      ## select a number of negative samples equal to the number of the positive ones\n",
        "      indexes = random.sample(range(0,number_of_negative_passages), negative_examples_to_draw)\n",
        "\n",
        "      for i in indexes:\n",
        "        sampled_queries.append(query_dict.get(key))\n",
        "        sampled_passages.append(passage_dict.get(l[1][i][0]))\n",
        "        sampled_labels.append(-1)\n",
        "        sampled_qids.append(key)\n",
        "        sampled_pids.append(l[1][i][0])\n",
        "\n",
        "  print(len(sampled_labels))\n",
        "\n",
        "  return sampled_passages, sampled_queries, sampled_labels, sampled_pids, sampled_qids\n"
      ],
      "execution_count": 14,
      "outputs": []
    },
    {
      "cell_type": "code",
      "metadata": {
        "id": "1sLnaKNvpGDL"
      },
      "source": [
        "## how many negative samples to collect for each positive one\n",
        "K = 5"
      ],
      "execution_count": 15,
      "outputs": []
    },
    {
      "cell_type": "code",
      "metadata": {
        "id": "KEc_zfRh3LLJ",
        "colab": {
          "base_uri": "https://localhost:8080/"
        },
        "outputId": "d5ef7131-855d-48bd-83ef-de5c81028232"
      },
      "source": [
        "sampled_passages, sampled_queries, sampled_labels, sampled_pids, sampled_qids = negative_sampling(train_relevant_passages_dict,train_passage_dict,train_query_dict,K)"
      ],
      "execution_count": 16,
      "outputs": [
        {
          "output_type": "stream",
          "text": [
            "27713\n"
          ],
          "name": "stdout"
        }
      ]
    },
    {
      "cell_type": "code",
      "metadata": {
        "colab": {
          "base_uri": "https://localhost:8080/"
        },
        "id": "jJqIp_P-PZWX",
        "outputId": "f8dd88b3-ce9d-4000-95d0-3c1dc331cf3f"
      },
      "source": [
        "SAMPLE_TEST = True\n",
        "if(SAMPLE_TEST == True):\n",
        "  K = 100\n",
        "  sampled_test_passages, sampled_test_queries, sampled_test_labels, sampled_test_pids, sampled_test_qids = negative_sampling(test_relevant_passages_dict,test_passage_dict,test_query_dict,K)\n",
        "  test_relevant_passages_dict  = collect_relevant_pids(sampled_test_pids,sampled_test_qids,sampled_test_labels)\n",
        "  test_passages = sampled_test_passages\n",
        "  test_queries = sampled_test_queries\n",
        "  test_labels = sampled_test_labels"
      ],
      "execution_count": 17,
      "outputs": [
        {
          "output_type": "stream",
          "text": [
            "113142\n"
          ],
          "name": "stdout"
        }
      ]
    },
    {
      "cell_type": "markdown",
      "metadata": {
        "id": "--3xlr03ogL0"
      },
      "source": [
        "**Evaluation Metrics Mean Precision and NDCG**"
      ]
    },
    {
      "cell_type": "code",
      "metadata": {
        "id": "xCZ7CeUbEElT"
      },
      "source": [
        "def Average_Precision(predictions,test_labels,test_query_dict,test_relevant_passages_dict):\n",
        "\n",
        "  average_precision = 0\n",
        "  queries_num = 0\n",
        "\n",
        "  for key in test_query_dict:\n",
        "    \n",
        "    relevant_docs = test_relevant_passages_dict.get(key)[0]\n",
        "    irrelevant_docs = test_relevant_passages_dict.get(key)[1]\n",
        "    if(len(relevant_docs) != 0):\n",
        "      queries_num += 1\n",
        "      ### based on all the candidate passages create a list with tuples (ranking,label)\n",
        "      #print(str(key) + \" \" + str(len(relevant_docs)) + \"  \" + str(len(irrelevant_docs)))\n",
        "      ranking_list = []\n",
        "      for (_,index) in relevant_docs + irrelevant_docs:\n",
        "        ranking = None\n",
        "        if(predictions[index] == None):\n",
        "          ranking = 0\n",
        "        else:\n",
        "          ranking = predictions[index]\n",
        "        ranking_list.append((ranking,test_labels[index]))\n",
        "      ## get the top 100 docs\n",
        "      sorted_ranking = sorted(ranking_list, key=lambda tup: tup[0], reverse = True)\n",
        "      sorted_ranking = sorted_ranking[0:100]\n",
        "      indx = 1\n",
        "      precision = []\n",
        "      relevant_docs_found = 0\n",
        "      for (_,label) in sorted_ranking:\n",
        "        if(label == 1):\n",
        "          #print(\"relevant doc ranked  at \" + str(indx))\n",
        "          relevant_docs_found += 1\n",
        "        precision.append(relevant_docs_found/indx)\n",
        "        indx += 1\n",
        "      query_precision = np.sum(np.array(precision))/len(sorted_ranking)\n",
        "      #print(\"Precision for query \" + str(key) + \" is \" + str(query_precision))\n",
        "\n",
        "      average_precision += query_precision\n",
        "\n",
        "  print(\"Average Precision: \" + str(average_precision/queries_num))   "
      ],
      "execution_count": 18,
      "outputs": []
    },
    {
      "cell_type": "code",
      "metadata": {
        "id": "04iSGWEukwYr"
      },
      "source": [
        "def Average_NDCG(predictions,test_labels,test_query_dict,test_relevant_passages_dict):\n",
        "\n",
        "  average_ndcg = 0\n",
        "  queries_num = 0\n",
        "\n",
        "  for key in test_query_dict:\n",
        "    relevant_docs = test_relevant_passages_dict.get(key)[0]\n",
        "    irrelevant_docs = test_relevant_passages_dict.get(key)[1]\n",
        "    if(len(relevant_docs) != 0):\n",
        "\n",
        "      queries_num += 1\n",
        "\n",
        "      ## compute IDCG\n",
        "      IDCG = 0\n",
        "      for i in range(len(relevant_docs)):\n",
        "        IDCG += 1/(np.log2((i+1)+1))\n",
        "\n",
        "      ranking_list = []\n",
        "      for (_,index) in relevant_docs + irrelevant_docs:\n",
        "        ranking = None\n",
        "        if(predictions[index] == None):\n",
        "          ranking = 0\n",
        "        else:\n",
        "          ranking = predictions[index]\n",
        "        ranking_list.append((ranking,test_labels[index]))\n",
        "      ## get the top 100 docs\n",
        "      sorted_ranking = sorted(ranking_list, key=lambda tup: tup[0], reverse = True)\n",
        "      sorted_ranking = sorted_ranking[0:100]\n",
        "\n",
        "      ## compute DCG\n",
        "      DCG = 0\n",
        "      for i,(_,label) in enumerate(sorted_ranking):\n",
        "        if(label == 1):\n",
        "          DCG += 1/(np.log2((i+1)+1))\n",
        "\n",
        "      average_ndcg += DCG/IDCG\n",
        "\n",
        "  print(\"Average NDCG: \" + str(average_ndcg/queries_num))"
      ],
      "execution_count": 19,
      "outputs": []
    },
    {
      "cell_type": "markdown",
      "metadata": {
        "id": "np3wW8e3STW6"
      },
      "source": [
        "**BM25 Retrieval Method**"
      ]
    },
    {
      "cell_type": "code",
      "metadata": {
        "id": "R9rxnFZ7SStq",
        "colab": {
          "base_uri": "https://localhost:8080/"
        },
        "outputId": "c04ff423-2f4a-4082-ddcf-3a0eb3465aa0"
      },
      "source": [
        "## immport useful utilities from previous coursework\n",
        "import sys\n",
        "sys.path.insert(0,'drive/MyDrive/Src/')\n",
        "import Utils\n",
        "import RetrievalMethods"
      ],
      "execution_count": null,
      "outputs": [
        {
          "output_type": "stream",
          "text": [
            "[nltk_data] Downloading package stopwords to /root/nltk_data...\n",
            "[nltk_data]   Unzipping corpora/stopwords.zip.\n"
          ],
          "name": "stdout"
        }
      ]
    },
    {
      "cell_type": "code",
      "metadata": {
        "id": "EkgvjUYkS03y"
      },
      "source": [
        "preprocessed_queries_dict = Utils.preprocess_queries(test_query_dict)"
      ],
      "execution_count": null,
      "outputs": []
    },
    {
      "cell_type": "code",
      "metadata": {
        "id": "JlQYr2YwV11B"
      },
      "source": [
        "## create candidate passage dict\n",
        "def get_candidate_passages(test_relevant_passages_dict):\n",
        "  index_dict = {}\n",
        "  query_passage_dict ={}\n",
        "  for key in test_relevant_passages_dict:\n",
        "    l = test_relevant_passages_dict.get(key)\n",
        "    for (pid,ind) in l[0] + l[1]:\n",
        "      if(query_passage_dict.get(key) == None):\n",
        "        query_passage_dict[key] = [pid]\n",
        "      else:\n",
        "        query_passage_dict[key].append(pid)\n",
        "      index_dict[(key,pid)] = ind\n",
        "\n",
        "  return query_passage_dict, index_dict"
      ],
      "execution_count": null,
      "outputs": []
    },
    {
      "cell_type": "code",
      "metadata": {
        "id": "xARYfyHdW_lQ"
      },
      "source": [
        "query_passage_dict, index_dict = get_candidate_passages(test_relevant_passages_dict)"
      ],
      "execution_count": null,
      "outputs": []
    },
    {
      "cell_type": "code",
      "metadata": {
        "id": "kDuGe7gvVkS5"
      },
      "source": [
        "preprocessed_passages, passage_ids, preprocessed_candidates_dict = Utils.preprocess_passages(877810,test_passage_dict,query_passage_dict,'query')\n"
      ],
      "execution_count": null,
      "outputs": []
    },
    {
      "cell_type": "code",
      "metadata": {
        "id": "GMWDBRtRZi92"
      },
      "source": [
        "inverted_index, index_token_dictionary = Utils.inverted_index(preprocessed_passages,passage_ids)"
      ],
      "execution_count": null,
      "outputs": []
    },
    {
      "cell_type": "code",
      "metadata": {
        "id": "RDODzaBJahNR"
      },
      "source": [
        "def get_BM25_score(queries_dict,passages_dict,query_passage_dict):\n",
        "  results_dict = {}\n",
        "  i = 0\n",
        "  for key in queries_dict:\n",
        "    i+=1\n",
        "    print(\"Processing query: \" + str(i)+'/'+str(len(queries_dict)))\n",
        "    clear_output(wait=True)      \n",
        "    preprocessed_passages, passage_ids, preprocessed_candidates_dict = Utils.preprocess_passages(key,passages_dict,query_passage_dict,'query')\n",
        "    inverted_index, token_index_dictionary = Utils.inverted_index(preprocessed_passages,passage_ids)\n",
        "    ranking = RetrievalMethods.BM25_Model(key,queries_dict,inverted_index,preprocessed_candidates_dict)\n",
        "    for (pid,score) in ranking:\n",
        "      results_dict[(key,pid)] = score\n",
        "\n",
        "  return results_dict\n"
      ],
      "execution_count": null,
      "outputs": []
    },
    {
      "cell_type": "code",
      "metadata": {
        "colab": {
          "base_uri": "https://localhost:8080/"
        },
        "id": "ATQPL06ZbMVk",
        "outputId": "19e3770f-7c51-4842-9d44-e5a759c8f36f"
      },
      "source": [
        "results_dict = get_BM25_score(preprocessed_queries_dict,test_passage_dict,query_passage_dict)"
      ],
      "execution_count": null,
      "outputs": [
        {
          "output_type": "stream",
          "text": [
            "Processing query: 2292/2292\n"
          ],
          "name": "stdout"
        }
      ]
    },
    {
      "cell_type": "code",
      "metadata": {
        "id": "nd7cA-M2cTZU"
      },
      "source": [
        "predictions = []\n",
        "for i,qid in enumerate(test_qids):\n",
        "  predictions.append(results_dict.get((qid,test_pids[i])))"
      ],
      "execution_count": null,
      "outputs": []
    },
    {
      "cell_type": "code",
      "metadata": {
        "id": "SRRvVrpwdqle",
        "colab": {
          "base_uri": "https://localhost:8080/"
        },
        "outputId": "e7028b1a-4f85-4ea4-d0c5-a3e0b873f5e7"
      },
      "source": [
        "Average_Precision(predictions,test_labels,test_query_dict,test_relevant_passages_dict)"
      ],
      "execution_count": null,
      "outputs": [
        {
          "output_type": "stream",
          "text": [
            "Average Precision: 0.022834793288548517\n"
          ],
          "name": "stdout"
        }
      ]
    },
    {
      "cell_type": "code",
      "metadata": {
        "colab": {
          "base_uri": "https://localhost:8080/"
        },
        "id": "wJTbzmE3dvPr",
        "outputId": "9e333c42-d7a4-49e5-8016-4ffdb79dd3c4"
      },
      "source": [
        "Average_NDCG(predictions,test_labels,test_query_dict,test_relevant_passages_dict)"
      ],
      "execution_count": null,
      "outputs": [
        {
          "output_type": "stream",
          "text": [
            "Average NDCG: 0.3118983295937294\n"
          ],
          "name": "stdout"
        }
      ]
    },
    {
      "cell_type": "markdown",
      "metadata": {
        "id": "hYDdJnfsnlaQ"
      },
      "source": [
        "**Preprocess Data and data Modeling for ML Ranking Methods**"
      ]
    },
    {
      "cell_type": "code",
      "metadata": {
        "colab": {
          "base_uri": "https://localhost:8080/"
        },
        "id": "dBmEm2R_oL-w",
        "outputId": "72c93a52-19e1-42a2-b685-ac43e5ef5243"
      },
      "source": [
        "import joblib\n",
        "from IPython.display import clear_output\n",
        "import numpy as np\n",
        "import re\n",
        "import gensim\n",
        "from gensim.models import KeyedVectors\n",
        "from nltk.corpus import stopwords\n",
        "import nltk\n",
        "nltk.download('stopwords')\n",
        "nltk.download('wordnet')\n",
        "from nltk.stem import  WordNetLemmatizer\n",
        "from nltk.stem import PorterStemmer \n",
        "from nltk.tokenize import RegexpTokenizer"
      ],
      "execution_count": 18,
      "outputs": [
        {
          "output_type": "stream",
          "text": [
            "[nltk_data] Downloading package stopwords to /root/nltk_data...\n",
            "[nltk_data]   Unzipping corpora/stopwords.zip.\n",
            "[nltk_data] Downloading package wordnet to /root/nltk_data...\n",
            "[nltk_data]   Unzipping corpora/wordnet.zip.\n"
          ],
          "name": "stdout"
        }
      ]
    },
    {
      "cell_type": "code",
      "metadata": {
        "id": "2CC1oGrD75zr"
      },
      "source": [
        "EMBEDDING_SIZE = 300"
      ],
      "execution_count": 19,
      "outputs": []
    },
    {
      "cell_type": "code",
      "metadata": {
        "colab": {
          "base_uri": "https://localhost:8080/"
        },
        "id": "bc4RW-o2n_9n",
        "outputId": "3df15ecf-fafd-433c-93c5-31819ad07dac"
      },
      "source": [
        "!wget -P /root/input/ -c \"https://s3.amazonaws.com/dl4j-distribution/GoogleNews-vectors-negative300.bin.gz\""
      ],
      "execution_count": 20,
      "outputs": [
        {
          "output_type": "stream",
          "text": [
            "--2021-04-18 19:18:31--  https://s3.amazonaws.com/dl4j-distribution/GoogleNews-vectors-negative300.bin.gz\n",
            "Resolving s3.amazonaws.com (s3.amazonaws.com)... 52.217.99.222\n",
            "Connecting to s3.amazonaws.com (s3.amazonaws.com)|52.217.99.222|:443... connected.\n",
            "HTTP request sent, awaiting response... 200 OK\n",
            "Length: 1647046227 (1.5G) [application/x-gzip]\n",
            "Saving to: ‘/root/input/GoogleNews-vectors-negative300.bin.gz’\n",
            "\n",
            "GoogleNews-vectors- 100%[===================>]   1.53G  46.0MB/s    in 35s     \n",
            "\n",
            "2021-04-18 19:19:06 (45.3 MB/s) - ‘/root/input/GoogleNews-vectors-negative300.bin.gz’ saved [1647046227/1647046227]\n",
            "\n"
          ],
          "name": "stdout"
        }
      ]
    },
    {
      "cell_type": "code",
      "metadata": {
        "id": "fAiZeCynoF9n"
      },
      "source": [
        "EMBEDDING_FILE = '/root/input/GoogleNews-vectors-negative300.bin.gz'\n",
        "word2vec = KeyedVectors.load_word2vec_format(EMBEDDING_FILE, binary=True)"
      ],
      "execution_count": 21,
      "outputs": []
    },
    {
      "cell_type": "code",
      "metadata": {
        "id": "3p8VdP2q4ogG"
      },
      "source": [
        "def process_data(data,rm_stopwords = True, lemm = True):\n",
        "\tstop_words = set(stopwords.words('english'))\n",
        "\t## remove punctuation\n",
        "\ttokenizer = RegexpTokenizer(r'\\w+')\n",
        "\tprocessed_sentences = []\n",
        "\tfor sentence in data:\n",
        "\t\t## tokenise each sentence\n",
        "\t\ttokenised_sentence = tokenizer.tokenize(sentence)\n",
        "\t\t##convert to lower case\n",
        "\t\tsentence = [w.lower() for w in tokenised_sentence]\n",
        "\t\t##exclude non alphabetic words\n",
        "\t\tonly_alpha_sentence = [word for word in sentence if word.isalpha()]\n",
        "\t\t## remove stop words\n",
        "\t\tif(rm_stopwords == True):\n",
        "\t\t\tfiltered_sentence = [w for w in only_alpha_sentence if not w in stop_words]\n",
        "\t\telse:\n",
        "\t\t\tfiltered_sentence = only_alpha_sentence\n",
        "\t\tlemmatized_sentence = []\n",
        "\t\tif(lemm == True):\n",
        "\t\t\t## stemming\n",
        "\t\t\tlemmatizer = WordNetLemmatizer()\n",
        "\t\t\t#stemmer = PorterStemmer()\n",
        "\t\t\tfor word in filtered_sentence:\n",
        "\t\t\t\tlemmatized_sentence.append(lemmatizer.lemmatize(word))\n",
        "\t\t\t\t#lemmatized_sentence.append(stemmer.stem(word))\n",
        "\t\telse:\n",
        "\t\t\tlemmatized_sentence = filtered_sentence\n",
        "\n",
        "\t\tprocessed_sentences.append(lemmatized_sentence)\n",
        "\treturn processed_sentences"
      ],
      "execution_count": 22,
      "outputs": []
    },
    {
      "cell_type": "code",
      "metadata": {
        "id": "knvZjgioo0Nc"
      },
      "source": [
        "train_passages = process_data(sampled_passages)\n",
        "train_queries = process_data(sampled_queries)\n",
        "test_passages = process_data(test_passages)\n",
        "test_queries = process_data(test_queries)"
      ],
      "execution_count": 23,
      "outputs": []
    },
    {
      "cell_type": "code",
      "metadata": {
        "colab": {
          "base_uri": "https://localhost:8080/"
        },
        "id": "6cRqgIdl6nDW",
        "outputId": "9292ebfd-2559-4eb6-c1a6-481498b69f6d"
      },
      "source": [
        "print(len(train_passages))\n",
        "print(len(train_queries))\n",
        "\n",
        "print(len(test_passages))\n",
        "print(len(test_queries))"
      ],
      "execution_count": 24,
      "outputs": [
        {
          "output_type": "stream",
          "text": [
            "27713\n",
            "27713\n",
            "113142\n",
            "113142\n"
          ],
          "name": "stdout"
        }
      ]
    },
    {
      "cell_type": "code",
      "metadata": {
        "colab": {
          "base_uri": "https://localhost:8080/"
        },
        "id": "Gcfd6e3pXAXO",
        "outputId": "e557dc19-70e5-4e14-ad35-03fd206dd62b"
      },
      "source": [
        "max_l = 0\n",
        "for sentence in train_passages:\n",
        "  if(len(sentence) > max_l):\n",
        "    max_l = len(sentence)\n",
        "for sentence in train_queries:\n",
        "  if(len(sentence) > max_l):\n",
        "    max_l = len(sentence)\n",
        "for sentence in test_passages:\n",
        "  if(len(sentence) > max_l):\n",
        "    max_l = len(sentence)\n",
        "for sentence in test_queries:\n",
        "  if(len(sentence) > max_l):\n",
        "    max_l = len(sentence)\n",
        "print(max_l)"
      ],
      "execution_count": 25,
      "outputs": [
        {
          "output_type": "stream",
          "text": [
            "123\n"
          ],
          "name": "stdout"
        }
      ]
    },
    {
      "cell_type": "code",
      "metadata": {
        "id": "HPx8SdpoXk-o"
      },
      "source": [
        "def find_unique_words(datasets):\n",
        "\n",
        "  # words to indexes\n",
        "  vocab_words = {}\n",
        "  # indexes to embeddings\n",
        "  vocab_embeddings = {}\n",
        "\n",
        "  unique_words = 0\n",
        "\n",
        "  # for every data set training validation testing\n",
        "  for dataset in datasets:\n",
        "    # for every sentence\n",
        "    for sentence in dataset:\n",
        "      # for each word of the sentence\n",
        "      for word in sentence:\n",
        "        # if this word is not saved on the dictionary\n",
        "        if(vocab_words.get(word)==None):\n",
        "          # if this word exists is the word Word2Vec model\n",
        "          if word in word2vec:\n",
        "            unique_words += 1\n",
        "            vocab_words[word] = unique_words\n",
        "            vocab_embeddings[unique_words] = word2vec.wv[word]\n",
        "\n",
        "  return vocab_words,vocab_embeddings"
      ],
      "execution_count": 26,
      "outputs": []
    },
    {
      "cell_type": "code",
      "metadata": {
        "colab": {
          "base_uri": "https://localhost:8080/"
        },
        "id": "mwTVq4HaXTBX",
        "outputId": "642340cc-d863-4d64-f689-99bc865b6c02"
      },
      "source": [
        "## vocab dict --> key each unique word and value a unique id\n",
        "## embeddings dict --> key the unique id of a word and value the respective embedding\n",
        "vocab_dict,vocab_embeddings_dict = find_unique_words([train_passages,train_queries,test_passages,test_queries])"
      ],
      "execution_count": 27,
      "outputs": [
        {
          "output_type": "stream",
          "text": [
            "/usr/local/lib/python3.7/dist-packages/ipykernel_launcher.py:22: DeprecationWarning: Call to deprecated `wv` (Attribute will be removed in 4.0.0, use self instead).\n"
          ],
          "name": "stderr"
        }
      ]
    },
    {
      "cell_type": "markdown",
      "metadata": {
        "id": "DnLQNYDRFFmK"
      },
      "source": [
        "**Model Data for the Logistic Regression and the XGBOOST**"
      ]
    },
    {
      "cell_type": "code",
      "metadata": {
        "id": "5el6sTEm1s8o"
      },
      "source": [
        "def get_average_sentence_representation(vocab_dict,vocab_embeddings_dict,sentences):\n",
        "  representations = []\n",
        "  ## for every sentence\n",
        "  for sentence in sentences:\n",
        "    sentence_representation = []\n",
        "    for word in sentence:\n",
        "      ## collect all the word embeddings of the respective words of a sentence\n",
        "      word_index = vocab_dict.get(word)\n",
        "      if(word_index!=None):\n",
        "        word_embedding = vocab_embeddings_dict.get(word_index)\n",
        "        sentence_representation.append(np.array(word_embedding))\n",
        "      else:\n",
        "        sentence_representation.append(np.array(np.zeros(EMBEDDING_SIZE)))\n",
        "    if(len(sentence_representation) == 0):\n",
        "      sentence_representation.append(np.array(np.zeros(EMBEDDING_SIZE)))\n",
        "    sentence_representation = np.array(sentence_representation)\n",
        "\n",
        "    representations.append(np.mean(sentence_representation,axis = 0))\n",
        "\n",
        "  return np.array(representations)"
      ],
      "execution_count": null,
      "outputs": []
    },
    {
      "cell_type": "code",
      "metadata": {
        "id": "Pv20wAJO34tJ"
      },
      "source": [
        "train_passage_represenations = get_average_sentence_representation(vocab_dict,vocab_embeddings_dict,train_passages)\n",
        "train_queries_represenations = get_average_sentence_representation(vocab_dict,vocab_embeddings_dict,train_queries)\n",
        "\n",
        "test_passage_represenations = get_average_sentence_representation(vocab_dict,vocab_embeddings_dict,test_passages)\n",
        "test_queries_represenations = get_average_sentence_representation(vocab_dict,vocab_embeddings_dict,test_queries)"
      ],
      "execution_count": null,
      "outputs": []
    },
    {
      "cell_type": "code",
      "metadata": {
        "colab": {
          "base_uri": "https://localhost:8080/"
        },
        "id": "qTeibggV6cdi",
        "outputId": "50a7b40a-65ee-4645-e113-3df16b7bf9ba"
      },
      "source": [
        "print(train_passage_represenations.shape)\n",
        "print(train_queries_represenations.shape)\n",
        "\n",
        "print(test_passage_represenations.shape)\n",
        "print(test_queries_represenations.shape)"
      ],
      "execution_count": null,
      "outputs": [
        {
          "output_type": "stream",
          "text": [
            "(27713, 300)\n",
            "(27713, 300)\n",
            "(1103039, 300)\n",
            "(1103039, 300)\n"
          ],
          "name": "stdout"
        }
      ]
    },
    {
      "cell_type": "code",
      "metadata": {
        "id": "k6LKo-hg-bIv"
      },
      "source": [
        "def combine_representations(q_rep,p_rep,flag = 'diff'):\n",
        "  representation = []\n",
        "  for i,p in enumerate(p_rep):\n",
        "    if(flag == 'diff'):\n",
        "      representation.append((p - q_rep[i])**2)\n",
        "    else:\n",
        "      representation.append(np.concatenate((p,q_rep[i]),axis = 0))\n",
        "  return np.array(representation)\n"
      ],
      "execution_count": null,
      "outputs": []
    },
    {
      "cell_type": "code",
      "metadata": {
        "id": "eb4lB_qq_jvX"
      },
      "source": [
        "train_inputs = combine_representations(train_queries_represenations,train_passage_represenations,flag = 'diff')\n",
        "\n",
        "test_inputs = combine_representations(test_queries_represenations,test_passage_represenations,flag = 'diff')"
      ],
      "execution_count": null,
      "outputs": []
    },
    {
      "cell_type": "code",
      "metadata": {
        "colab": {
          "base_uri": "https://localhost:8080/"
        },
        "id": "-lHn7b3bE29y",
        "outputId": "981331ea-ec78-41e8-aa5e-4acc2107f54b"
      },
      "source": [
        "print(train_inputs.shape)\n",
        "print(train_labels.shape)\n",
        "print(test_inputs.shape)\n",
        "print(test_labels.shape)"
      ],
      "execution_count": null,
      "outputs": [
        {
          "output_type": "stream",
          "text": [
            "(27713, 300)\n",
            "(4364339,)\n",
            "(1103039, 300)\n",
            "(1103039,)\n"
          ],
          "name": "stdout"
        }
      ]
    },
    {
      "cell_type": "code",
      "metadata": {
        "colab": {
          "base_uri": "https://localhost:8080/"
        },
        "id": "z4eSJ6VQ-Xm9",
        "outputId": "61ac2b92-41eb-4b28-f087-dd02b05f982f"
      },
      "source": [
        "joblib.dump(train_inputs, 'drive/MyDrive/Vectors/train_inputs')\n",
        "joblib.dump(test_inputs, 'drive/MyDrive/Vectors/test_inputs')\n",
        "\n",
        "joblib.dump(sampled_labels, 'drive/MyDrive/Vectors/train_labels')\n",
        "joblib.dump(test_labels, 'drive/MyDrive/Vectors/test_labels')"
      ],
      "execution_count": null,
      "outputs": [
        {
          "output_type": "execute_result",
          "data": {
            "text/plain": [
              "['drive/MyDrive/Vectors/test_labels']"
            ]
          },
          "metadata": {
            "tags": []
          },
          "execution_count": 35
        }
      ]
    },
    {
      "cell_type": "markdown",
      "metadata": {
        "id": "wWpJOlQADS4a"
      },
      "source": [
        "**Modeling Data for the Neural Network**"
      ]
    },
    {
      "cell_type": "code",
      "metadata": {
        "id": "ggeDW10ai7TG"
      },
      "source": [
        "def create_look_up_table(embeddings_dict):\n",
        "\n",
        "  look_up_table = [np.zeros(300)]\n",
        "  for key in sorted (embeddings_dict.keys()) :  \n",
        "     look_up_table.append(embeddings_dict.get(key))\n",
        "  return np.array(look_up_table) "
      ],
      "execution_count": 28,
      "outputs": []
    },
    {
      "cell_type": "code",
      "metadata": {
        "id": "CswOXpUFgklJ"
      },
      "source": [
        "def padding_at_the_end_V2(max_length,vector):\n",
        "\n",
        "  vector = np.array(vector)\n",
        "\n",
        "  if(vector.shape[0] < max_length and vector.shape[0] != 0):\n",
        "    padding_vector = np.zeros(max_length - vector.shape[0])\n",
        "    return np.concatenate((vector, padding_vector), axis=0)\n",
        "  elif(vector.shape[0] == max_length):\n",
        "    return vector\n",
        "  else:\n",
        "    return np.zeros((0,0))"
      ],
      "execution_count": 29,
      "outputs": []
    },
    {
      "cell_type": "code",
      "metadata": {
        "id": "jdGwycxbbcIH"
      },
      "source": [
        "def convert_to_embeddings_V2(data,max_length,labels,vocab_words):\n",
        "\n",
        "  embedding_list = []\n",
        "  embedding_labels = []\n",
        "  lengths = []\n",
        "  count = -1\n",
        "\n",
        "  for sentence in data:\n",
        "    count += 1\n",
        "    embedding_sentence = []\n",
        "    for word in sentence:\n",
        "      if(vocab_words.get(word)!=None):\n",
        "        #word_one_hot_encoding = np.zeros(len(vocab_words))\n",
        "        #word_one_hot_encoding[vocab_words.get(word)] = 1\n",
        "        embedding_sentence.append(vocab_words.get(word))\n",
        "\n",
        "    if(len(embedding_sentence) == 0):\n",
        "      lengths.append(2)\n",
        "    else:\n",
        "      lengths.append(len(embedding_sentence))\n",
        "\n",
        "    embedding_sentence =  padding_at_the_end_V2(max_length,embedding_sentence) \n",
        "\n",
        "    if(embedding_sentence.shape[0]!=0):\n",
        "      embedding_labels.append(labels[count])\n",
        "      embedding_list.append(np.array(embedding_sentence))\n",
        "    else:\n",
        "      embedding_labels.append(labels[count])\n",
        "      #random_embed = np.zeros(max_length)\n",
        "      #random_embed[0] = 1\n",
        "      embedding_list.append(np.zeros(max_length))\n",
        "  \n",
        "  return np.array(embedding_list),np.array(embedding_labels),np.array(lengths)"
      ],
      "execution_count": 30,
      "outputs": []
    },
    {
      "cell_type": "code",
      "metadata": {
        "id": "C1U_3wfjDamO"
      },
      "source": [
        "train_inputs_passages,train_labels,train_passages_lengths = convert_to_embeddings_V2(train_passages,max_l,sampled_labels,vocab_dict)\n",
        "train_inputs_queries,_,train_queries_lengths = convert_to_embeddings_V2(train_queries,max_l,sampled_labels,vocab_dict)\n",
        "\n",
        "test_inputs_passages,test_labels, test_passages_lengths = convert_to_embeddings_V2(test_passages,max_l,test_labels,vocab_dict)\n",
        "test_inputs_queries,_, test_queries_lengths = convert_to_embeddings_V2(test_queries,max_l,test_labels,vocab_dict)"
      ],
      "execution_count": 31,
      "outputs": []
    },
    {
      "cell_type": "code",
      "metadata": {
        "colab": {
          "base_uri": "https://localhost:8080/"
        },
        "id": "sJiWlP46EvDT",
        "outputId": "ac711a8a-bc4a-49fe-dcac-a5684992ab66"
      },
      "source": [
        "print(train_inputs_passages.shape)\n",
        "print(train_inputs_queries.shape)\n",
        "\n",
        "print(test_inputs_passages.shape)\n",
        "print(test_inputs_queries.shape)\n",
        "\n",
        "print(train_passages_lengths.shape)\n",
        "print(train_queries_lengths.shape)\n",
        "print(test_passages_lengths.shape)\n",
        "print(test_queries_lengths.shape)"
      ],
      "execution_count": 32,
      "outputs": [
        {
          "output_type": "stream",
          "text": [
            "(27713, 123)\n",
            "(27713, 123)\n",
            "(113142, 123)\n",
            "(113142, 123)\n",
            "(27713,)\n",
            "(27713,)\n",
            "(113142,)\n",
            "(113142,)\n"
          ],
          "name": "stdout"
        }
      ]
    },
    {
      "cell_type": "code",
      "metadata": {
        "colab": {
          "base_uri": "https://localhost:8080/"
        },
        "id": "rMoosUy8jes2",
        "outputId": "8e39a8b5-1c71-425c-8af1-d89a03e1874a"
      },
      "source": [
        "look_up_table = create_look_up_table(vocab_embeddings_dict)\n",
        "print(look_up_table.shape)"
      ],
      "execution_count": 33,
      "outputs": [
        {
          "output_type": "stream",
          "text": [
            "(53806, 300)\n"
          ],
          "name": "stdout"
        }
      ]
    },
    {
      "cell_type": "code",
      "metadata": {
        "colab": {
          "base_uri": "https://localhost:8080/"
        },
        "id": "adwNMtVXK2jw",
        "outputId": "08f5ea30-f1a2-40aa-b476-423375477163"
      },
      "source": [
        "joblib.dump(train_inputs_passages, 'drive/MyDrive/Vectors/train_inputs_passages')\n",
        "joblib.dump(train_inputs_queries, 'drive/MyDrive/Vectors/train_inputs_queries')\n",
        "\n",
        "joblib.dump(test_inputs_passages, 'drive/MyDrive/Vectors/test_inputs_passages')\n",
        "joblib.dump(test_inputs_queries, 'drive/MyDrive/Vectors/test_inputs_queries')\n",
        "\n",
        "joblib.dump(train_passages_lengths, 'drive/MyDrive/Vectors/train_passages_lengths')\n",
        "joblib.dump(train_queries_lengths, 'drive/MyDrive/Vectors/train_queries_lengths')\n",
        "joblib.dump(test_passages_lengths, 'drive/MyDrive/Vectors/test_passages_lengths')\n",
        "joblib.dump(test_queries_lengths, 'drive/MyDrive/Vectors/test_queries_lengths')\n",
        "\n",
        "joblib.dump(look_up_table, 'drive/MyDrive/Vectors/look_up_table')\n",
        "\n",
        "joblib.dump(test_labels, 'drive/MyDrive/Vectors/test_labels')"
      ],
      "execution_count": 34,
      "outputs": [
        {
          "output_type": "execute_result",
          "data": {
            "text/plain": [
              "['drive/MyDrive/Vectors/test_labels']"
            ]
          },
          "metadata": {
            "tags": []
          },
          "execution_count": 34
        }
      ]
    },
    {
      "cell_type": "markdown",
      "metadata": {
        "id": "f76oWE8w2Khr"
      },
      "source": [
        "**Logistic Regression**"
      ]
    },
    {
      "cell_type": "code",
      "metadata": {
        "id": "n7Wgg21VCfJA"
      },
      "source": [
        "train_inputs = joblib.load('drive/MyDrive/Vectors/train_inputs')\n",
        "train_labels = np.array(joblib.load('drive/MyDrive/Vectors/train_labels'))\n",
        "test_inputs = joblib.load('drive/MyDrive/Vectors/test_inputs')\n",
        "test_labels = joblib.load('drive/MyDrive/Vectors/test_labels')"
      ],
      "execution_count": null,
      "outputs": []
    },
    {
      "cell_type": "code",
      "metadata": {
        "colab": {
          "base_uri": "https://localhost:8080/"
        },
        "id": "ThqP5Yv6FlDW",
        "outputId": "123a4a98-64fd-41c5-ff50-c0e51b5b3cc3"
      },
      "source": [
        "print(train_inputs.shape)\n",
        "print(train_labels.shape)\n",
        "print(test_inputs.shape)\n",
        "print(test_labels.shape)"
      ],
      "execution_count": null,
      "outputs": [
        {
          "output_type": "stream",
          "text": [
            "(27713, 300)\n",
            "(27713,)\n",
            "(1103039, 300)\n",
            "(1103039,)\n"
          ],
          "name": "stdout"
        }
      ]
    },
    {
      "cell_type": "code",
      "metadata": {
        "id": "SI4CKPXZ6yyN"
      },
      "source": [
        "def predict(w,xTr):\n",
        "  return xTr@w"
      ],
      "execution_count": null,
      "outputs": []
    },
    {
      "cell_type": "code",
      "metadata": {
        "id": "I7J9iGOa2O5E"
      },
      "source": [
        "def logistic(w,xTr,yTr):\n",
        "\n",
        "    n, d = xTr.shape\n",
        "    ## compute the logistic loss\n",
        "    loss = 0\n",
        "    for i in range(0,n):\n",
        "        loss += np.log(1 + np.exp(-yTr[i] * w.dot(xTr[i])))\n",
        "\n",
        "    ## compute the gradient\n",
        "    grad = np.zeros((d))\n",
        "    \n",
        "    for i in range(0,n):\n",
        "        term1 = (1/(1 + np.exp(-yTr[i] * w.dot(xTr[i]))))\n",
        "        term2 = np.exp(-yTr[i] * w.dot(xTr[i]))\n",
        "        term3 = (-yTr[i] * xTr[i])      \n",
        "        grad_term = term1 * term2 * term3       \n",
        "        grad  = np.add(grad,grad_term)\n",
        "                   \n",
        "    return loss, grad"
      ],
      "execution_count": null,
      "outputs": []
    },
    {
      "cell_type": "code",
      "metadata": {
        "id": "XhQ8QLi05KkB"
      },
      "source": [
        "def grad_descent(func,w,alpha,maxiter,tol=1e-02):\n",
        "    \n",
        "    losses = []\n",
        "    eps = 1e-06\n",
        "    G_matrix = np.zeros((w.shape[0],w.shape[0]))\n",
        "    \n",
        "    iter_num = 0\n",
        "    criterion = True\n",
        "    \n",
        "    while(iter_num < maxiter and criterion == True):\n",
        "        iter_num += 1\n",
        "        \n",
        "        loss, gradient = func(w)\n",
        "        print(\"Iteration: \" + str(iter_num) + \" with loss \" + str(loss))\n",
        "        clear_output(wait=True)      \n",
        "        for i in range(w.shape[0]):\n",
        "            G_matrix[i][i] += gradient[i]**2\n",
        "        for i in range(w.shape[0]):\n",
        "            w[i] -= alpha*gradient[i]\n",
        "        losses.append(loss)\n",
        "        if(np.linalg.norm(gradient) < tol):\n",
        "            criterion = False\n",
        "        \n",
        "    return w, losses"
      ],
      "execution_count": null,
      "outputs": []
    },
    {
      "cell_type": "code",
      "metadata": {
        "id": "ZqmWMIAd5qJD",
        "colab": {
          "base_uri": "https://localhost:8080/",
          "height": 367
        },
        "outputId": "442fe8b9-1ebd-4eab-85bf-ba43b1087d85"
      },
      "source": [
        "_, d = train_inputs.shape\n",
        "w, losses = grad_descent(lambda weight: logistic(weight, train_inputs, train_labels), np.random.rand(d), 0.0001, 500)\n",
        "\n",
        "plt.figure(figsize=(10,5))\n",
        "plt.semilogy(losses, c='r', linestyle='-')\n",
        "plt.xlabel(\"gradient updates\")\n",
        "plt.ylabel(\"loss\")\n",
        "plt.title(\"Adagrad convergence\")\n",
        "print(\"Final train loss: %f\" % losses[-1])"
      ],
      "execution_count": null,
      "outputs": [
        {
          "output_type": "stream",
          "text": [
            "Final train loss: 13047.939240\n"
          ],
          "name": "stdout"
        },
        {
          "output_type": "display_data",
          "data": {
            "image/png": "[encoded data removed]",
            "text/plain": [
              "<Figure size 720x360 with 1 Axes>"
            ]
          },
          "metadata": {
            "tags": [],
            "needs_background": "light"
          }
        }
      ]
    },
    {
      "cell_type": "code",
      "metadata": {
        "id": "CaSOI8rstNFE"
      },
      "source": [
        "predictions = predict(w,test_inputs)"
      ],
      "execution_count": null,
      "outputs": []
    },
    {
      "cell_type": "code",
      "metadata": {
        "id": "5AHaC7J7FDn9",
        "colab": {
          "base_uri": "https://localhost:8080/"
        },
        "outputId": "6f1084ac-1601-4e30-94fe-04f52c3c006e"
      },
      "source": [
        "Average_Precision(predictions,test_labels,test_query_dict,test_relevant_passages_dict)"
      ],
      "execution_count": null,
      "outputs": [
        {
          "output_type": "stream",
          "text": [
            "Average Precision: 0.014498130966629537\n"
          ],
          "name": "stdout"
        }
      ]
    },
    {
      "cell_type": "code",
      "metadata": {
        "id": "peCOKw21pBDH",
        "colab": {
          "base_uri": "https://localhost:8080/"
        },
        "outputId": "5bf25406-d667-4429-e530-6270de386981"
      },
      "source": [
        "Average_NDCG(predictions,test_labels,test_query_dict,test_relevant_passages_dict)"
      ],
      "execution_count": null,
      "outputs": [
        {
          "output_type": "stream",
          "text": [
            "Average NDCG: 0.20629537502588136\n"
          ],
          "name": "stdout"
        }
      ]
    },
    {
      "cell_type": "markdown",
      "metadata": {
        "id": "tXyv8QxIY714"
      },
      "source": [
        "**XGBOOST with LambdaMART**"
      ]
    },
    {
      "cell_type": "code",
      "metadata": {
        "id": "kd0CCJy7hhCf"
      },
      "source": [
        "import xgboost as xgb"
      ],
      "execution_count": null,
      "outputs": []
    },
    {
      "cell_type": "code",
      "metadata": {
        "id": "ELq6QnqOa0H0"
      },
      "source": [
        "def collect_group_ids_1(sampled_qids):\n",
        "\n",
        "  number_list = []\n",
        "  helper_dict = {}\n",
        "\n",
        "  for i in range(len(sampled_qids)):\n",
        "    if(helper_dict.get(sampled_qids[i]) == None):\n",
        "      helper_dict[sampled_qids[i]] = 1\n",
        "    else:\n",
        "      v = helper_dict.get(sampled_qids[i]) + 1\n",
        "      helper_dict[sampled_qids[i]] = v\n",
        "\n",
        "  for key in helper_dict:\n",
        "    number_list.append(helper_dict.get(key))\n",
        "      \n",
        "  return number_list"
      ],
      "execution_count": null,
      "outputs": []
    },
    {
      "cell_type": "code",
      "metadata": {
        "id": "4EhW90rIccr1"
      },
      "source": [
        "train_groupd_ids = collect_group_ids_1(sampled_qids)"
      ],
      "execution_count": null,
      "outputs": []
    },
    {
      "cell_type": "code",
      "metadata": {
        "id": "3qYK8UXScuj2"
      },
      "source": [
        "def collect_group_ids_2(test_relevant_passages_dict):\n",
        "  number_list = []\n",
        "\n",
        "  for key in test_relevant_passages_dict:\n",
        "    passages = test_relevant_passages_dict.get(key)\n",
        "    number_list.append(len(passages[0]) + len(passages[1]))\n",
        "\n",
        "  return number_list"
      ],
      "execution_count": null,
      "outputs": []
    },
    {
      "cell_type": "code",
      "metadata": {
        "id": "qZiMLDxodK0d"
      },
      "source": [
        "test_group_ids = collect_group_ids_2(test_relevant_passages_dict)"
      ],
      "execution_count": null,
      "outputs": []
    },
    {
      "cell_type": "code",
      "metadata": {
        "id": "Ivsg1TunhjPz"
      },
      "source": [
        "model = xgb.XGBRanker(  \n",
        "    tree_method='gpu_hist',\n",
        "    booster='gbtree',\n",
        "    objective='rank:pairwise',\n",
        "    random_state=42, \n",
        "    learning_rate=0.1,\n",
        "    colsample_bytree=0.9, \n",
        "    eta=0.05, \n",
        "    max_depth=4, \n",
        "    n_estimators=500, \n",
        "    subsample=0.5 \n",
        "    )"
      ],
      "execution_count": null,
      "outputs": []
    },
    {
      "cell_type": "code",
      "metadata": {
        "id": "6VQN682ihoVc"
      },
      "source": [
        "model = model.fit(train_inputs, sampled_labels, group=train_groupd_ids, verbose=False)"
      ],
      "execution_count": null,
      "outputs": []
    },
    {
      "cell_type": "code",
      "metadata": {
        "id": "wQ8Gh-0Dp_YM"
      },
      "source": [
        "def get_XGBoost_predictions(model,test_relevant_passages_dict,test_inputs):\n",
        "\n",
        "  result = []\n",
        "\n",
        "  index = 1\n",
        "  for key in test_relevant_passages_dict:\n",
        "    l = test_relevant_passages_dict.get(key)\n",
        "    group_input = []\n",
        "    indexes = []\n",
        "    for (_,i) in l[0] + l[1]:\n",
        "      indexes.append(i)\n",
        "      group_input.append(test_inputs[i])\n",
        "    group_input = np.array(group_input)\n",
        "    #print(group_input.shape)\n",
        "    preds = model.predict(group_input)\n",
        "    for i in range(len(indexes)):\n",
        "      result.append((indexes[i],preds[i]))\n",
        "\n",
        "  ## reorder the predictions\n",
        "  result = sorted(result, key=lambda tup: tup[0], reverse = False)\n",
        "\n",
        "  final_result = []\n",
        "  for (_,p) in result:\n",
        "    final_result.append(p)\n",
        "\n",
        "  return final_result"
      ],
      "execution_count": null,
      "outputs": []
    },
    {
      "cell_type": "code",
      "metadata": {
        "id": "8BWdjHk_rHj0"
      },
      "source": [
        "predictions = get_XGBoost_predictions(model,test_relevant_passages_dict,test_inputs)"
      ],
      "execution_count": null,
      "outputs": []
    },
    {
      "cell_type": "code",
      "metadata": {
        "id": "UbviRlqIdf9c",
        "colab": {
          "base_uri": "https://localhost:8080/"
        },
        "outputId": "3f11e614-09a9-434b-c27d-c315c39ae28b"
      },
      "source": [
        "Average_Precision(predictions,test_labels,test_query_dict,test_relevant_passages_dict)"
      ],
      "execution_count": null,
      "outputs": [
        {
          "output_type": "stream",
          "text": [
            "Average Precision: 0.012738036138242988\n"
          ],
          "name": "stdout"
        }
      ]
    },
    {
      "cell_type": "code",
      "metadata": {
        "id": "akiDlySldtWs",
        "colab": {
          "base_uri": "https://localhost:8080/"
        },
        "outputId": "30842747-9c33-429a-f40f-595ae21ae564"
      },
      "source": [
        "Average_NDCG(predictions,test_labels,test_query_dict,test_relevant_passages_dict)"
      ],
      "execution_count": null,
      "outputs": [
        {
          "output_type": "stream",
          "text": [
            "Average NDCG: 0.17737927212459903\n"
          ],
          "name": "stdout"
        }
      ]
    },
    {
      "cell_type": "markdown",
      "metadata": {
        "id": "KCby9E6ZLiE_"
      },
      "source": [
        "**Neural Network**"
      ]
    },
    {
      "cell_type": "code",
      "metadata": {
        "id": "mrzJr7AE-hx5"
      },
      "source": [
        "import joblib\n",
        "import numpy as np\n",
        "import torch\n",
        "import torch.nn as nn\n",
        "import torch.nn.functional as F\n",
        "import numpy as np\n",
        "import joblib\n",
        "from IPython.display import clear_output\n",
        "import matplotlib.pyplot as plt\n",
        "from torch.autograd import Variable"
      ],
      "execution_count": 2,
      "outputs": []
    },
    {
      "cell_type": "code",
      "metadata": {
        "id": "5BuH6uHnLhdO"
      },
      "source": [
        "train_passages = joblib.load('drive/MyDrive/Vectors/train_inputs_passages')\n",
        "train_queries = joblib.load('drive/MyDrive/Vectors/train_inputs_queries')\n",
        "test_passages = joblib.load('drive/MyDrive/Vectors/test_inputs_passages')\n",
        "test_queries = joblib.load('drive/MyDrive/Vectors/test_inputs_queries')\n",
        "\n",
        "train_labels = np.array(joblib.load('drive/MyDrive/Vectors/train_labels'))\n",
        "test_labels = joblib.load('drive/MyDrive/Vectors/test_labels')\n",
        "\n",
        "look_up_table = joblib.load('drive/MyDrive/Vectors/look_up_table')\n",
        "\n",
        "train_passages_lengths = joblib.load('drive/MyDrive/Vectors/train_passages_lengths')\n",
        "train_queries_lengths = joblib.load('drive/MyDrive/Vectors/train_queries_lengths')\n",
        "test_passages_lengths = joblib.load('drive/MyDrive/Vectors/test_passages_lengths')\n",
        "test_queries_lengths = joblib.load('drive/MyDrive/Vectors/test_queries_lengths')"
      ],
      "execution_count": 3,
      "outputs": []
    },
    {
      "cell_type": "code",
      "metadata": {
        "id": "PYQwZalPwT4_"
      },
      "source": [
        "train_labels[train_labels == -1] = 0\n",
        "test_labels[test_labels == -1] = 0"
      ],
      "execution_count": 4,
      "outputs": []
    },
    {
      "cell_type": "code",
      "metadata": {
        "id": "FUFIF88LNO-y"
      },
      "source": [
        "#device = torch.device(\"cuda\" if torch.cuda.is_available() else \"cpu\")"
      ],
      "execution_count": 5,
      "outputs": []
    },
    {
      "cell_type": "code",
      "metadata": {
        "id": "DkhGzVCx3bGP"
      },
      "source": [
        "device = 'cpu'"
      ],
      "execution_count": 5,
      "outputs": []
    },
    {
      "cell_type": "code",
      "metadata": {
        "id": "VZN5zdGdH2e1"
      },
      "source": [
        "train_passages_data = torch.from_numpy(train_passages).int().to(device)\n",
        "train_queries_data = torch.from_numpy(train_queries).int().to(device)\n",
        "\n",
        "train_passages_lengths = torch.from_numpy(train_passages_lengths)\n",
        "train_passages_lengths = torch.as_tensor(train_passages_lengths.cpu(), dtype=torch.int64)\n",
        "\n",
        "train_queries_lengths = torch.from_numpy(train_queries_lengths)\n",
        "train_queries_lengths = torch.as_tensor(train_queries_lengths.cpu(), dtype=torch.int64)\n",
        "\n",
        "train_labels = torch.from_numpy(train_labels).to(device)\n",
        "\n",
        "look_up_table = torch.from_numpy(look_up_table).float().to(device)"
      ],
      "execution_count": 39,
      "outputs": []
    },
    {
      "cell_type": "code",
      "metadata": {
        "id": "UN7ZO_2XIAeO"
      },
      "source": [
        "test_passages_data = torch.from_numpy(test_passages).int().to(device)\n",
        "test_queries_data = torch.from_numpy(test_queries).int().to(device)\n",
        "\n",
        "test_passages_lengths = torch.from_numpy(test_passages_lengths)\n",
        "test_passages_lengths = torch.as_tensor(test_passages_lengths.cpu(), dtype=torch.int64)\n",
        "\n",
        "test_queries_lengths = torch.from_numpy(test_queries_lengths)\n",
        "test_queries_lengths = torch.as_tensor(test_queries_lengths.cpu(), dtype=torch.int64)\n",
        "\n",
        "test_labels = torch.from_numpy(test_labels).to(device)\n",
        "\n",
        "look_up_table = torch.from_numpy(look_up_table).float().to(device)"
      ],
      "execution_count": 6,
      "outputs": []
    },
    {
      "cell_type": "code",
      "metadata": {
        "id": "dApMPGmFvt5U"
      },
      "source": [
        "batch_size= 128\n",
        "train_set = torch.utils.data.TensorDataset(train_passages_data, train_passages_lengths, train_queries_data, train_queries_lengths, train_labels)\n",
        "train_set_loader = torch.utils.data.DataLoader(train_set, batch_size=batch_size, shuffle=True)"
      ],
      "execution_count": 40,
      "outputs": []
    },
    {
      "cell_type": "code",
      "metadata": {
        "id": "VFXvdw8kIS2Y"
      },
      "source": [
        "batch_size = 128\n",
        "test_set = torch.utils.data.TensorDataset(test_passages_data, test_passages_lengths, test_queries_data, test_queries_lengths, test_labels)\n",
        "test_set_loader = torch.utils.data.DataLoader(test_set, batch_size=batch_size, shuffle=False)"
      ],
      "execution_count": 7,
      "outputs": []
    },
    {
      "cell_type": "code",
      "metadata": {
        "colab": {
          "base_uri": "https://localhost:8080/"
        },
        "id": "wZsCINYWTNT4",
        "outputId": "3100cb10-03a8-4e72-8d74-f33584cbef35"
      },
      "source": [
        "print(train_passages_data.max())\n",
        "print(train_passages_data.min())\n",
        "print(train_passages_lengths.max())\n",
        "print(train_passages_lengths.min())"
      ],
      "execution_count": null,
      "outputs": [
        {
          "output_type": "stream",
          "text": [
            "tensor(32849, device='cuda:0', dtype=torch.int32)\n",
            "tensor(0, device='cuda:0', dtype=torch.int32)\n",
            "tensor(101)\n",
            "tensor(2)\n"
          ],
          "name": "stdout"
        }
      ]
    },
    {
      "cell_type": "code",
      "metadata": {
        "colab": {
          "base_uri": "https://localhost:8080/"
        },
        "id": "N6M6Gx6wSLMu",
        "outputId": "b36ceaa1-9d46-4497-881d-cbdb2a2b5c84"
      },
      "source": [
        "print(train_queries_data.max())\n",
        "print(train_queries_data.min())\n",
        "print(train_queries_lengths.max())\n",
        "print(train_queries_lengths.min())"
      ],
      "execution_count": null,
      "outputs": [
        {
          "output_type": "stream",
          "text": [
            "tensor(32869, device='cuda:0', dtype=torch.int32)\n",
            "tensor(0, device='cuda:0', dtype=torch.int32)\n",
            "tensor(15)\n",
            "tensor(1)\n"
          ],
          "name": "stdout"
        }
      ]
    },
    {
      "cell_type": "code",
      "metadata": {
        "id": "ylpTewVpJFKQ"
      },
      "source": [
        "## define a dictionary with the parameters of the Neural Network\n",
        "params_dictionary = {}\n",
        "params_dictionary['embedding_size'] = look_up_table.shape[1]\n",
        "params_dictionary['vocabulary_size'] = look_up_table.shape[0]\n",
        "params_dictionary['hidden_dim'] = 256\n",
        "params_dictionary['linear_dims'] = [128,64,32]\n",
        "params_dictionary['bidirectional'] = True\n",
        "params_dictionary['label_size'] = 2\n",
        "params_dictionary['rnn_type'] = 'LSTM'\n",
        "params_dictionary['dropout'] = 0.0\n",
        "params_dictionary['rnn_layers_num'] = 1\n",
        "params_dictionary['attention_layer'] = True\n",
        "params_dictionary['concat_layer'] = [64,32]"
      ],
      "execution_count": 8,
      "outputs": []
    },
    {
      "cell_type": "code",
      "metadata": {
        "id": "BQobYenNgcKq"
      },
      "source": [
        "class Attention(nn.Module):\n",
        "    def __init__(self, device,hidden_size):\n",
        "        super(Attention, self).__init__()\n",
        "        self.device = device\n",
        "        self.hidden_size = hidden_size\n",
        "\n",
        "        self.concat_linear = nn.Linear(self.hidden_size * 2, self.hidden_size)\n",
        "        self.attn = nn.Linear(self.hidden_size, hidden_size)\n",
        "\n",
        "        ## add this model the same same device with the RNN\n",
        "        self.to(device)\n",
        "\n",
        "    def forward(self, rnn_outputs, final_hidden_state):\n",
        "      attn_weights = self.attn(rnn_outputs) # (batch_size, seq_len, hidden_dim)\n",
        "      attn_weights = torch.bmm(attn_weights, final_hidden_state.unsqueeze(2))\n",
        "      attn_weights = F.softmax(attn_weights.squeeze(2), dim=1)\n",
        "      context = torch.bmm(rnn_outputs.transpose(1, 2), attn_weights.unsqueeze(2)).squeeze(2)\n",
        "      attn_hidden = torch.tanh(self.concat_linear(torch.cat((context, final_hidden_state), dim=1)))\n",
        "      return attn_hidden, attn_weights"
      ],
      "execution_count": 9,
      "outputs": []
    },
    {
      "cell_type": "code",
      "metadata": {
        "id": "pXfrPNpg6EEH"
      },
      "source": [
        "class RnnClassifier(nn.Module):\n",
        "    def __init__(self, device, params_dictionary,look_up_table):\n",
        "        super(RnnClassifier, self).__init__()\n",
        "        self.params = params_dictionary\n",
        "        self.device = device\n",
        "\n",
        "        # Calculate number of directions\n",
        "        self.num_directions = 2 if self.params.get('bidirectional') == True else 1\n",
        "\n",
        "        # define an attention model\n",
        "        # Choose attention model\n",
        "        self.attention = Attention(self.device,self.params.get('hidden_dim')* self.num_directions)\n",
        "\n",
        "        # Embedding layer (vocabulary_size X embedding_dimension)\n",
        "        self.word_embeddings = nn.Embedding.from_pretrained(look_up_table)\n",
        "\n",
        "        ## here store in a list all the dimensions of the layers rnn_output --> linear layers --> labels layer\n",
        "        self.linear_dims = [self.params.get('hidden_dim') * self.num_directions] + self.params.get('linear_dims')\n",
        "\n",
        "        # Work with LSTM cell for now\n",
        "        self.rnn = nn.LSTM\n",
        "\n",
        "        ## define the RNN layer\n",
        "        self.rnn = self.rnn(self.params.get('embedding_size'),\n",
        "                            self.params.get('hidden_dim'),\n",
        "                            num_layers=self.params.get('rnn_layers_num'),\n",
        "                            bidirectional=self.params.get('bidirectional'),\n",
        "                            dropout=float(self.params.get('dropout')),\n",
        "                            batch_first=True)\n",
        "        \n",
        "        ## the hidden state of the RNN empty for now\n",
        "        self.hidden = None\n",
        "        \n",
        "        # Define set of fully connected layers (Linear Layer + Activation Layer)\n",
        "        ## this set of layers takes the output of the RNN or the Attention layer and applies a feedforward NN on it\n",
        "        ## consecutive linear + Relu layers are applied (the final layer does not have a relu activation!)\n",
        "        self.linears = nn.ModuleList()\n",
        "        for i in range(0, len(self.linear_dims)-1):\n",
        "            if self.params.get('dropout') > 0.0:\n",
        "                self.linears.append(nn.Dropout(p=self.params.get('dropout')))\n",
        "            linear_layer = nn.Linear(self.linear_dims[i], self.linear_dims[i+1])\n",
        "            self.init_weights(linear_layer)\n",
        "            self.linears.append(linear_layer)\n",
        "            self.linears.append(nn.ReLU())\n",
        "\n",
        "        self.to(self.device)\n",
        "\n",
        "    def init_weights(self, layer):\n",
        "      if type(layer) == nn.Linear:\n",
        "        torch.nn.init.xavier_uniform_(layer.weight)\n",
        "        layer.bias.data.fill_(0.01)\n",
        "\n",
        "    def init_hidden(self, batch_size):\n",
        "      return (torch.zeros(self.params.get('rnn_layers_num') * self.num_directions, batch_size, self.params.get('hidden_dim')).to(self.device),\n",
        "              torch.zeros(self.params.get('rnn_layers_num') * self.num_directions, batch_size, self.params.get('hidden_dim')).to(self.device))\n",
        "      \n",
        "\n",
        "    def forward(self, inputs, X_lengths):\n",
        "        batch_size, seq_len = inputs.shape\n",
        "\n",
        "        ## Push through embedding layer\n",
        "        embedded_inputs = self.word_embeddings(inputs)\n",
        "\n",
        "        ## initialise the hidden state of the RNN\n",
        "        self.hidden = self.init_hidden(batch_size)\n",
        "\n",
        "        # pack_padded_sequence so that padded items in the sequence won't be shown to the LSTM\n",
        "        padded_X = torch.nn.utils.rnn.pack_padded_sequence(embedded_inputs, X_lengths, batch_first=True, enforce_sorted = False)\n",
        "\n",
        "        ## pass the data through the recurrent layer\n",
        "        rnn_output, self.hidden = self.rnn(padded_X, self.hidden)\n",
        "\n",
        "        # undo the packing operation\n",
        "        rnn_output_unpacked, lens_unpacked = torch.nn.utils.rnn.pad_packed_sequence(rnn_output, batch_first=True)\n",
        "\n",
        "        ## Collect last hidden state\n",
        "        final_state = self.hidden[0].view(self.params.get('rnn_layers_num'), self.num_directions, batch_size, self.params.get('hidden_dim'))[-1]\n",
        "\n",
        "        # Handle directions if more than one\n",
        "        final_hidden_state = None\n",
        "        ## in case we have only one direction\n",
        "        if self.num_directions == 1:\n",
        "            final_hidden_state = final_state.squeeze(0)\n",
        "        ## in case we have 2 directions concatenate these two states\n",
        "        elif self.num_directions == 2:\n",
        "            h_1, h_2 = final_state[0], final_state[1]\n",
        "            final_hidden_state = torch.cat((h_1, h_2), 1)  # Concatenate both states\n",
        "\n",
        "        ## Attention Layer\n",
        "        if(self.params.get('attention_layer') == False):\n",
        "          X = final_hidden_state\n",
        "        else:\n",
        "          rnn_output = rnn_output_unpacked.permute(1, 0, 2)\n",
        "          X, attention_weights = self.attention(rnn_output_unpacked, final_hidden_state)\n",
        "\n",
        "        # Push through linear layers\n",
        "        for l in self.linears:\n",
        "            X = l(X)\n",
        "\n",
        "        #print(X.shape)\n",
        "\n",
        "        #log_probs = F.log_softmax(X, dim=1)\n",
        "\n",
        "        #print(log_probs.shape)\n",
        "\n",
        "        return X"
      ],
      "execution_count": 10,
      "outputs": []
    },
    {
      "cell_type": "code",
      "metadata": {
        "id": "0T168J2YDYCz"
      },
      "source": [
        "class RankingModel(nn.Module):\n",
        "\n",
        "  def __init__(self, device, params_dictionary,look_up_table):\n",
        "        super(RankingModel, self).__init__()\n",
        "        self.params = params_dictionary\n",
        "        self.device = device\n",
        "\n",
        "        self.passage_network = RnnClassifier(device,params_dictionary,look_up_table)\n",
        "        self.query_network = RnnClassifier(device,params_dictionary,look_up_table)\n",
        "\n",
        "        self.linear_dims = [self.params.get('linear_dims')[-1]*2] + self.params.get('concat_layer')\n",
        "        self.linear_dims.append(self.params.get('label_size'))\n",
        "\n",
        "        self.linears = nn.ModuleList()\n",
        "        for i in range(0, len(self.linear_dims)-1):\n",
        "            if self.params.get('dropout') > 0.0:\n",
        "                self.linears.append(nn.Dropout(p=self.params.get('dropout')))\n",
        "            linear_layer = nn.Linear(self.linear_dims[i], self.linear_dims[i+1])\n",
        "            self.init_weights(linear_layer)\n",
        "            self.linears.append(linear_layer)\n",
        "            if i == len(self.linear_dims) - 1:\n",
        "                break\n",
        "            self.linears.append(nn.ReLU())\n",
        "\n",
        "        self.to(self.device)\n",
        "\n",
        "  def init_weights(self, layer):\n",
        "    if type(layer) == nn.Linear:\n",
        "      torch.nn.init.xavier_uniform_(layer.weight)\n",
        "      layer.bias.data.fill_(0.01)\n",
        "\n",
        "  def forward(self, passage_inputs, passage_lengths, query_inputs, query_lengths):\n",
        "\n",
        "    passage_output = self.passage_network.forward(passage_inputs,passage_lengths)\n",
        "    query_output = self.query_network.forward(query_inputs,query_lengths)\n",
        "    concatenated_output = torch.cat((passage_output,query_output),dim=1)\n",
        "\n",
        "    X = concatenated_output\n",
        "\n",
        "    for l in self.linears:\n",
        "      X = l(X)\n",
        "\n",
        "    return X"
      ],
      "execution_count": 11,
      "outputs": []
    },
    {
      "cell_type": "code",
      "metadata": {
        "id": "dk45-RvzIlqx"
      },
      "source": [
        "model = RankingModel(device, params_dictionary,look_up_table)"
      ],
      "execution_count": 45,
      "outputs": []
    },
    {
      "cell_type": "code",
      "metadata": {
        "colab": {
          "base_uri": "https://localhost:8080/"
        },
        "id": "CHFL3jBrwzSy",
        "outputId": "3ebbb660-05a2-40c1-bcfa-e91a77207f8f"
      },
      "source": [
        "loss_function = nn.CrossEntropyLoss()\n",
        "optimizer =  torch.optim.Adam(model.parameters(), lr=0.0001)\n",
        "\n",
        "loss = []\n",
        "\n",
        "epochs = 200\n",
        "\n",
        "for i in range(epochs):\n",
        "  loss_batches = []\n",
        "  for batch_index,training_batch in enumerate (train_set_loader,0):\n",
        "\n",
        "      passage_input, passage_lengths, query_input, query_lengths, labels = training_batch\n",
        "      labels,p_inputs,q_inputs,p_lengths,q_lengths = Variable(labels), Variable(passage_input), Variable(query_input), Variable(passage_lengths), Variable(query_lengths)\n",
        "      optimizer.zero_grad()\n",
        "      y_pred = model.forward(p_inputs,p_lengths,q_inputs,q_lengths)\n",
        "      single_loss = loss_function(y_pred,labels).to(device)\n",
        "      single_loss.backward()\n",
        "      optimizer.step()\n",
        "      loss_batches.append(single_loss.item())\n",
        "  loss.append(np.mean(np.array(loss_batches)))\n",
        "  print(\"epoch  \" + str(i+1) + \" \" + str(loss[-1]))\n",
        "  clear_output(wait=True)"
      ],
      "execution_count": 46,
      "outputs": [
        {
          "output_type": "stream",
          "text": [
            "epoch  200 0.0005510665312713717\n"
          ],
          "name": "stdout"
        }
      ]
    },
    {
      "cell_type": "code",
      "metadata": {
        "id": "addywYG73z1Z"
      },
      "source": [
        "torch.save(model.state_dict(), 'drive/MyDrive/Models/RankingNN')"
      ],
      "execution_count": 47,
      "outputs": []
    },
    {
      "cell_type": "code",
      "metadata": {
        "id": "AvdSo06fD-XE",
        "colab": {
          "base_uri": "https://localhost:8080/",
          "height": 282
        },
        "outputId": "213e8169-2f05-45df-ca9b-3e31b5f9354c"
      },
      "source": [
        "iters = [i+1 for i in range(epochs)]\n",
        "plt.plot(iters,loss)"
      ],
      "execution_count": 48,
      "outputs": [
        {
          "output_type": "execute_result",
          "data": {
            "text/plain": [
              "[<matplotlib.lines.Line2D at 0x7f05544f8b90>]"
            ]
          },
          "metadata": {
            "tags": []
          },
          "execution_count": 48
        },
        {
          "output_type": "display_data",
          "data": {
            "image/png": "[encoded data removed]",
            "text/plain": [
              "<Figure size 432x288 with 1 Axes>"
            ]
          },
          "metadata": {
            "tags": [],
            "needs_background": "light"
          }
        }
      ]
    },
    {
      "cell_type": "markdown",
      "metadata": {
        "id": "FFBXn6ky-AA0"
      },
      "source": [
        "**Loading the Neural Net in order to make predictions**"
      ]
    },
    {
      "cell_type": "code",
      "metadata": {
        "colab": {
          "base_uri": "https://localhost:8080/"
        },
        "id": "j0yQ7w-v9-8V",
        "outputId": "bf9989d8-e560-4ce0-be31-43f8a98a7eea"
      },
      "source": [
        "model = RankingModel(device, params_dictionary,look_up_table)\n",
        "model.load_state_dict(torch.load('drive/MyDrive/Models/RankingNN'))\n",
        "model.eval()"
      ],
      "execution_count": 12,
      "outputs": [
        {
          "output_type": "execute_result",
          "data": {
            "text/plain": [
              "RankingModel(\n",
              "  (passage_network): RnnClassifier(\n",
              "    (attention): Attention(\n",
              "      (concat_linear): Linear(in_features=1024, out_features=512, bias=True)\n",
              "      (attn): Linear(in_features=512, out_features=512, bias=True)\n",
              "    )\n",
              "    (word_embeddings): Embedding(53806, 300)\n",
              "    (rnn): LSTM(300, 256, batch_first=True, bidirectional=True)\n",
              "    (linears): ModuleList(\n",
              "      (0): Linear(in_features=512, out_features=128, bias=True)\n",
              "      (1): ReLU()\n",
              "      (2): Linear(in_features=128, out_features=64, bias=True)\n",
              "      (3): ReLU()\n",
              "      (4): Linear(in_features=64, out_features=32, bias=True)\n",
              "      (5): ReLU()\n",
              "    )\n",
              "  )\n",
              "  (query_network): RnnClassifier(\n",
              "    (attention): Attention(\n",
              "      (concat_linear): Linear(in_features=1024, out_features=512, bias=True)\n",
              "      (attn): Linear(in_features=512, out_features=512, bias=True)\n",
              "    )\n",
              "    (word_embeddings): Embedding(53806, 300)\n",
              "    (rnn): LSTM(300, 256, batch_first=True, bidirectional=True)\n",
              "    (linears): ModuleList(\n",
              "      (0): Linear(in_features=512, out_features=128, bias=True)\n",
              "      (1): ReLU()\n",
              "      (2): Linear(in_features=128, out_features=64, bias=True)\n",
              "      (3): ReLU()\n",
              "      (4): Linear(in_features=64, out_features=32, bias=True)\n",
              "      (5): ReLU()\n",
              "    )\n",
              "  )\n",
              "  (linears): ModuleList(\n",
              "    (0): Linear(in_features=64, out_features=64, bias=True)\n",
              "    (1): ReLU()\n",
              "    (2): Linear(in_features=64, out_features=32, bias=True)\n",
              "    (3): ReLU()\n",
              "    (4): Linear(in_features=32, out_features=2, bias=True)\n",
              "    (5): ReLU()\n",
              "  )\n",
              ")"
            ]
          },
          "metadata": {
            "tags": []
          },
          "execution_count": 12
        }
      ]
    },
    {
      "cell_type": "code",
      "metadata": {
        "id": "bKlHEzIBIn0Q"
      },
      "source": [
        "predictions = []\n",
        "for batch_index,training_batch in enumerate (test_set_loader,0):\n",
        "  passage_input, passage_lengths, query_input, query_lengths, labels = training_batch\n",
        "  labels,p_inputs,q_inputs,p_lengths,q_lengths = Variable(labels), Variable(passage_input), Variable(query_input), Variable(passage_lengths), Variable(query_lengths)\n",
        "  test_predictions = model.forward(p_inputs,p_lengths,q_inputs,q_lengths)\n",
        "  for t in test_predictions:\n",
        "    if(t[0] > t[1]):\n",
        "      predictions.append(-t[0])\n",
        "    else:\n",
        "      predictions.append(t[1])"
      ],
      "execution_count": null,
      "outputs": []
    },
    {
      "cell_type": "code",
      "metadata": {
        "id": "74oJdT4fNqaR"
      },
      "source": [
        "Average_Precision(predictions,test_labels,test_query_dict,test_relevant_passages_dict)"
      ],
      "execution_count": null,
      "outputs": []
    },
    {
      "cell_type": "code",
      "metadata": {
        "id": "t6Tje04lNuKB"
      },
      "source": [
        "Average_NDCG(predictions,test_labels,test_query_dict,test_relevant_passages_dict)"
      ],
      "execution_count": null,
      "outputs": []
    }
  ]
}